{
 "cells": [
  {
   "cell_type": "markdown",
   "metadata": {},
   "source": [
    "# 4. Pairwise alignments to reference, Li et al.\n",
    "___\n",
    "Dr. Raffael lab <br>\n",
    "2024"
   ]
  },
  {
   "cell_type": "code",
   "execution_count": 1,
   "metadata": {},
   "outputs": [
    {
     "name": "stderr",
     "output_type": "stream",
     "text": [
      "/Users/varundeepakgudhe/opt/anaconda3/lib/python3.9/site-packages/Bio/pairwise2.py:278: BiopythonDeprecationWarning: Bio.pairwise2 has been deprecated, and we intend to remove it in a future release of Biopython. As an alternative, please consider using Bio.Align.PairwiseAligner as a replacement, and contact the Biopython developers if you still need the Bio.pairwise2 module.\n",
      "  warnings.warn(\n"
     ]
    }
   ],
   "source": [
    "import os\n",
    "import re\n",
    "import datetime\n",
    "from pathlib import Path\n",
    "import multiprocessing as mp\n",
    "\n",
    "import numpy as np\n",
    "import pandas as pd\n",
    "\n",
    "# from Bio.Alphabet import Gapped\n",
    "from Bio.Align import MultipleSeqAlignment\n",
    "from Bio.Align import substitution_matrices as matlist\n",
    "from Bio import Align\n",
    "from Bio import SeqIO, AlignIO, Seq, Align, SeqRecord, pairwise2\n",
    "\n",
    "from tqdm import tqdm"
   ]
  },
  {
   "cell_type": "code",
   "execution_count": 2,
   "metadata": {},
   "outputs": [],
   "source": [
    "def performPairwiseAlns(ref_seq_record, target_fasta_handle):\n",
    "    \"\"\"Performs pairwise alignment of each record in a fasta against\n",
    "    a reference sequence. The reference itself is still included in the alignment.\n",
    "    Uses the following default alignment parameters:\n",
    "        open_gap_score = -10\n",
    "        extend_gap_score = -0.5\n",
    "    \n",
    "    Arguments:\n",
    "        (Bio.SeqRecord) ref_seq_record: a record corresponding to the reference\n",
    "            sequence.\n",
    "        (str|pathlib.Path) target_fasta_handle: handle of per-enzyme fasta against\n",
    "            which to perform pairwise alignments\n",
    "    \n",
    "    Returns:\n",
    "        (list) a list of SeqRecord object corresponding to each of the fasta\n",
    "            seqs aligned to the reference sequence.\n",
    "    \n",
    "    \"\"\"\n",
    "    aln_results = []\n",
    "    \n",
    "    for target_seq in SeqIO.parse(target_fasta_handle, 'fasta'):\n",
    "        \n",
    "        # Define pairwise alignment parameters\n",
    "        aligner = Align.PairwiseAligner()\n",
    "        aligner.open_gap_score = -10\n",
    "        aligner.extend_gap_score = -0.5\n",
    "        aligner.substitution_matrix = matlist.load('BLOSUM62')\n",
    "        \n",
    "        # Execute alignment\n",
    "        alignments = aligner.align(ref_seq_record.seq, target_seq.seq)\n",
    "        best_aln = alignments[0]\n",
    "        aln_score = best_aln.score\n",
    "        \n",
    "        # Extract aligned sequences from results\n",
    "#         split_best_aln = str(alignments[0]).split('\\n')\n",
    "        aligned_reference = best_aln[0]#split_best_aln[0]\n",
    "        aligned_target = best_aln[1]#split_best_aln[2]\n",
    "\n",
    "        # Mask the target by the non-gapped reference positions\n",
    "        aligned_reference_arr = np.array(list(aligned_reference), dtype = 'str')\n",
    "        aligned_target_arr = np.array(list(aligned_target), dtype = 'str')\n",
    "        trimmed_aligned_target = ''.join(aligned_target_arr[(aligned_reference_arr != '-')].tolist())\n",
    "        \n",
    "        # Append the record to our results list\n",
    "        aln_results.append(SeqRecord.SeqRecord(Seq.Seq(trimmed_aligned_target), \n",
    "                                               id = '', \n",
    "                                               name = '', \n",
    "                                               description = target_seq.description+'|'+str(aln_score)\n",
    "                                              )\n",
    "                          )\n",
    "\n",
    "    return aln_results\n",
    "\n",
    "def alignAndExport(fh, rep_db, alignment_root):\n",
    "    \"\"\"Perform parwise alignment of each record in a fasta against a \n",
    "    reference sequence, and export the resulting multiple sequence alignment\n",
    "    as a fasta with the reference information embedded in the header as a comment\n",
    "    escaped with a semicolon (\";\")\n",
    "    \n",
    "    Arguments:\n",
    "        (pathlib.Path) fh: file handle of fasta containing per-enzyme\n",
    "            NR.gz query records\n",
    "        (dict) rep_db: dictionary mapping from enzyme name to a tuple of\n",
    "            a Bio.SeqRecord object corresponding to the determined reference sequence\n",
    "            and the mean+3SD alignment threshold. This will be written into the header\n",
    "            of the alignment fasta as a two line comment.\n",
    "        (pathlib.Path) alignment_root: root folder to contain the pairwise alignment\n",
    "            results.\n",
    "    \n",
    "    Returns:\n",
    "        None\n",
    "\n",
    "    \"\"\"\n",
    "    if fh.stem in rep_db.keys():\n",
    "        ref_record, aln_thresh = rep_db[fh.stem] # get the reference sequence record\n",
    "    else:\n",
    "        print('Enzyme not in simulation keys: {}'.format(fh.stem))\n",
    "    #i think here it should return pass or just return to stop here if the enzyme not there.So i am writing return here\n",
    "        return\n",
    "    \n",
    "    alignments = performPairwiseAlns(ref_record, fh)\n",
    "    \n",
    "    out_aln_handle = alignment_root.joinpath(fh.stem+'.aln')\n",
    "    with open(out_aln_handle, 'a+') as alignment_file:\n",
    "        alignment_file.write(';{}|{}\\n;{}\\n'.format(ref_record.description, \n",
    "                                                    str(aln_thresh), \n",
    "                                                    str(ref_record.seq)))\n",
    "        SeqIO.write(alignments, alignment_file, 'fasta')\n",
    "\n",
    "\n",
    "def alignAndExportChunked(fh_recs_chunks, rep_db, alignment_root):\n",
    "    \"\"\"A wrapper for performing pairwise alignments of a iterable collection of fastas\n",
    "    against their dtermined representatives.\n",
    "    \n",
    "    \n",
    "    Arguments:\n",
    "        (pd.DataFrame) fh_recs_chunks: a dataframe in which each row is a record\n",
    "            containing the path of a fasta to be aligned.\n",
    "        (dict) rep_db: dictionary mapping from enzyme name to a tuple of\n",
    "            a Bio.SeqRecord object corresponding to the determined reference sequence\n",
    "            and the mean+3SD alignment threshold. This will be written into the header\n",
    "            of the alignment fasta as a two line comment.\n",
    "        (pathlib.Path) alignment_root: root folder to contain the pairwise alignment\n",
    "            results.\n",
    "    \n",
    "    Returns:\n",
    "        None\n",
    "    \n",
    "    \"\"\"\n",
    "    results = []\n",
    "    for i, rec in fh_recs_chunks.iterrows():\n",
    "        results.append(alignAndExport(rec.fasta_path, rep_db, alignment_root))"
   ]
  },
  {
   "cell_type": "markdown",
   "metadata": {},
   "source": [
    "## 1. Parse the alignment simulation results"
   ]
  },
  {
   "cell_type": "code",
   "execution_count": 3,
   "metadata": {},
   "outputs": [
    {
     "name": "stderr",
     "output_type": "stream",
     "text": [
      "/Users/varundeepakgudhe/opt/anaconda3/lib/python3.9/site-packages/Bio/SeqRecord.py:229: BiopythonDeprecationWarning: Using a string as the sequence is deprecated and will raise a TypeError in future. It has been converted to a Seq object.\n",
      "  warnings.warn(\n"
     ]
    }
   ],
   "source": [
    "#Use this commented line when working with multiple enzymes\n",
    "#references_thresholds = pd.read_csv('Lietal_BlastReps/Lietal_200128_RepSummary_AlnSims_Summary.csv', compression = 'bz2').set_index('name')\n",
    "references_thresholds = pd.read_csv('Lietal_BlastReps/Lietal_200128_RepSummary_AlnSims_Summary.csv').set_index('name')\n",
    "rep_db = {}\n",
    "for name, reference_record in references_thresholds.iterrows():\n",
    "    ref_seq_record = SeqRecord.SeqRecord(reference_record.rep_seq, \n",
    "                                         id = '', \n",
    "                                         name = '', \n",
    "                                         description = reference_record.rep_desc)\n",
    "    rep_db[name] = (ref_seq_record, reference_record['mean+3sd'])"
   ]
  },
  {
   "cell_type": "markdown",
   "metadata": {},
   "source": [
    "## 2. Parse the cleaned fastas"
   ]
  },
  {
   "cell_type": "code",
   "execution_count": 4,
   "metadata": {},
   "outputs": [
    {
     "data": {
      "text/html": [
       "<div>\n",
       "<style scoped>\n",
       "    .dataframe tbody tr th:only-of-type {\n",
       "        vertical-align: middle;\n",
       "    }\n",
       "\n",
       "    .dataframe tbody tr th {\n",
       "        vertical-align: top;\n",
       "    }\n",
       "\n",
       "    .dataframe thead th {\n",
       "        text-align: right;\n",
       "    }\n",
       "</style>\n",
       "<table border=\"1\" class=\"dataframe\">\n",
       "  <thead>\n",
       "    <tr style=\"text-align: right;\">\n",
       "      <th></th>\n",
       "      <th>fasta_path</th>\n",
       "      <th>fasta_size</th>\n",
       "    </tr>\n",
       "  </thead>\n",
       "  <tbody>\n",
       "    <tr>\n",
       "      <th>0</th>\n",
       "      <td>Lietal_FetchedSeqs/parsed_fastas_cleaned_tempe...</td>\n",
       "      <td>334216</td>\n",
       "    </tr>\n",
       "  </tbody>\n",
       "</table>\n",
       "</div>"
      ],
      "text/plain": [
       "                                          fasta_path  fasta_size\n",
       "0  Lietal_FetchedSeqs/parsed_fastas_cleaned_tempe...      334216"
      ]
     },
     "execution_count": 4,
     "metadata": {},
     "output_type": "execute_result"
    }
   ],
   "source": [
    "fasta_root = Path('Lietal_FetchedSeqs/parsed_fastas_cleaned_temped/MeetingOrgCountCrit/')\n",
    "\n",
    "fasta_records = pd.DataFrame([{'fasta_path': Path(fh),'fasta_size':fh.stat().st_size} for fh in fasta_root.iterdir()]).sort_values('fasta_size')\n",
    "fasta_records.head()"
   ]
  },
  {
   "cell_type": "markdown",
   "metadata": {},
   "source": [
    "### 3. Execute pairwise alignments"
   ]
  },
  {
   "cell_type": "code",
   "execution_count": null,
   "metadata": {},
   "outputs": [
    {
     "name": "stderr",
     "output_type": "stream",
     "text": [
      "Aligning to sequences:   1%|▏         | 1/80 [00:00<00:42,  1.86it/s]"
     ]
    },
    {
     "name": "stdout",
     "output_type": "stream",
     "text": [
      "Enzyme not in simulation keys: molybdate-transporting_ATPase\n"
     ]
    },
    {
     "name": "stderr",
     "output_type": "stream",
     "text": [
      "Aligning to sequences:  12%|█▎        | 10/80 [00:08<01:15,  1.09s/it]"
     ]
    },
    {
     "name": "stdout",
     "output_type": "stream",
     "text": [
      "Enzyme not in simulation keys: cyanide_hydratase\n"
     ]
    },
    {
     "name": "stderr",
     "output_type": "stream",
     "text": [
      "Aligning to sequences:  99%|█████████▉| 79/80 [3:25:23<18:15, 1095.82s/it]"
     ]
    }
   ],
   "source": [
    "# numchunks = 80\n",
    "# alignment_root = Path('Lietal_PairwiseAlns/')\n",
    "\n",
    "# for recordSet in tqdm(np.array_split(fasta_records, numchunks), total = numchunks, desc = 'Aligning to sequences'):\n",
    "\n",
    "#     numthreads = 24\n",
    "#     pool = mp.Pool(numthreads)\n",
    "#     results = []\n",
    "\n",
    "#     result_objects = [pool.apply_async(alignAndExportChunked, args=(chunk, rep_db, alignment_root)) \n",
    "#                       for chunk in np.array_split(recordSet.reset_index(drop = True), numthreads)]\n",
    "        \n",
    "#     pool.close()\n",
    "#     pool.join()"
   ]
  },
  {
   "cell_type": "code",
   "execution_count": 5,
   "metadata": {},
   "outputs": [],
   "source": [
    "#For single enzyme processing use this. For multiple use above cell.\n",
    "alignment_root = Path('Lietal_PairwiseAlns/')\n",
    "alignAndExportChunked(fasta_records, rep_db, alignment_root)   "
   ]
  },
  {
   "cell_type": "markdown",
   "metadata": {},
   "source": [
    "### 4. Check results of first alignment. Large fastas could not align in bulk due to RAM constraints, so perform those alignments separately"
   ]
  },
  {
   "cell_type": "code",
   "execution_count": 9,
   "metadata": {},
   "outputs": [],
   "source": [
    "alignment_root = Path('Lietal_PairwiseAlns/')\n",
    "complete_alns = pd.DataFrame([{'enzyme_name': Path(fh).stem} for fh in alignment_root.iterdir() if not '.ipynb_checkpoints' in str(fh)])"
   ]
  },
  {
   "cell_type": "code",
   "execution_count": 10,
   "metadata": {},
   "outputs": [
    {
     "data": {
      "text/html": [
       "<div>\n",
       "<style scoped>\n",
       "    .dataframe tbody tr th:only-of-type {\n",
       "        vertical-align: middle;\n",
       "    }\n",
       "\n",
       "    .dataframe tbody tr th {\n",
       "        vertical-align: top;\n",
       "    }\n",
       "\n",
       "    .dataframe thead th {\n",
       "        text-align: right;\n",
       "    }\n",
       "</style>\n",
       "<table border=\"1\" class=\"dataframe\">\n",
       "  <thead>\n",
       "    <tr style=\"text-align: right;\">\n",
       "      <th></th>\n",
       "      <th>enzyme_name</th>\n",
       "    </tr>\n",
       "  </thead>\n",
       "  <tbody>\n",
       "    <tr>\n",
       "      <th>0</th>\n",
       "      <td>steroid_DELTA-isomerase</td>\n",
       "    </tr>\n",
       "  </tbody>\n",
       "</table>\n",
       "</div>"
      ],
      "text/plain": [
       "               enzyme_name\n",
       "0  steroid_DELTA-isomerase"
      ]
     },
     "execution_count": 10,
     "metadata": {},
     "output_type": "execute_result"
    }
   ],
   "source": [
    "complete_alns"
   ]
  },
  {
   "cell_type": "code",
   "execution_count": 11,
   "metadata": {},
   "outputs": [
    {
     "data": {
      "text/html": [
       "<div>\n",
       "<style scoped>\n",
       "    .dataframe tbody tr th:only-of-type {\n",
       "        vertical-align: middle;\n",
       "    }\n",
       "\n",
       "    .dataframe tbody tr th {\n",
       "        vertical-align: top;\n",
       "    }\n",
       "\n",
       "    .dataframe thead th {\n",
       "        text-align: right;\n",
       "    }\n",
       "</style>\n",
       "<table border=\"1\" class=\"dataframe\">\n",
       "  <thead>\n",
       "    <tr style=\"text-align: right;\">\n",
       "      <th></th>\n",
       "      <th>fasta_path</th>\n",
       "      <th>fasta_size</th>\n",
       "    </tr>\n",
       "  </thead>\n",
       "  <tbody>\n",
       "  </tbody>\n",
       "</table>\n",
       "</div>"
      ],
      "text/plain": [
       "Empty DataFrame\n",
       "Columns: [fasta_path, fasta_size]\n",
       "Index: []"
      ]
     },
     "execution_count": 11,
     "metadata": {},
     "output_type": "execute_result"
    }
   ],
   "source": [
    "missing_enzymes = set([fh.stem for fh in fasta_records.fasta_path]).difference(set(complete_alns.enzyme_name))\n",
    "missing_recs = fasta_records.loc[fasta_records.fasta_path.apply(lambda s: s.stem).isin(missing_enzymes)]\n",
    "missing_recs"
   ]
  },
  {
   "cell_type": "code",
   "execution_count": null,
   "metadata": {},
   "outputs": [],
   "source": [
    "#Not executing below two as they are for processing the missing_recs again but we dont have any missing_recs."
   ]
  },
  {
   "cell_type": "code",
   "execution_count": null,
   "metadata": {},
   "outputs": [
    {
     "name": "stderr",
     "output_type": "stream",
     "text": [
      "Aligning missings to sequences:   0%|          | 0/5 [00:00<?, ?it/s]"
     ]
    },
    {
     "name": "stdout",
     "output_type": "stream",
     "text": [
      "Enzyme not in simulation keys: molybdate-transporting_ATPase\n"
     ]
    },
    {
     "name": "stderr",
     "output_type": "stream",
     "text": [
      "Aligning missings to sequences:  20%|██        | 1/5 [00:00<00:01,  2.39it/s]"
     ]
    }
   ],
   "source": [
    "numchunks = 5\n",
    "alignment_root = Path('Lietal_PairwiseAlns/')\n",
    "\n",
    "for recordSet in tqdm(np.array_split(missing_recs, numchunks), total = numchunks, desc = 'Aligning missings to sequences'):\n",
    "\n",
    "    numthreads = 2\n",
    "    pool = mp.Pool(numthreads)\n",
    "    results = []\n",
    "\n",
    "    result_objects = [pool.apply_async(alignAndExportChunked, args=(chunk, rep_db, alignment_root)) \n",
    "                      for chunk in np.array_split(recordSet.reset_index(drop = True), numthreads)]\n",
    "\n",
    "    pool.close()\n",
    "    pool.join()"
   ]
  },
  {
   "cell_type": "markdown",
   "metadata": {},
   "source": [
    "### 5. Check final records (noting that 2 records had no representatives, so we expect two to have failed)"
   ]
  },
  {
   "cell_type": "code",
   "execution_count": 9,
   "metadata": {},
   "outputs": [
    {
     "data": {
      "text/html": [
       "<div>\n",
       "<style scoped>\n",
       "    .dataframe tbody tr th:only-of-type {\n",
       "        vertical-align: middle;\n",
       "    }\n",
       "\n",
       "    .dataframe tbody tr th {\n",
       "        vertical-align: top;\n",
       "    }\n",
       "\n",
       "    .dataframe thead th {\n",
       "        text-align: right;\n",
       "    }\n",
       "</style>\n",
       "<table border=\"1\" class=\"dataframe\">\n",
       "  <thead>\n",
       "    <tr style=\"text-align: right;\">\n",
       "      <th></th>\n",
       "      <th>fasta_path</th>\n",
       "      <th>fasta_size</th>\n",
       "    </tr>\n",
       "  </thead>\n",
       "  <tbody>\n",
       "    <tr>\n",
       "      <th>53</th>\n",
       "      <td>/media/dmokhtari/DataStore2/Collaborations/MMP...</td>\n",
       "      <td>19512</td>\n",
       "    </tr>\n",
       "    <tr>\n",
       "      <th>10</th>\n",
       "      <td>/media/dmokhtari/DataStore2/Collaborations/MMP...</td>\n",
       "      <td>66815</td>\n",
       "    </tr>\n",
       "  </tbody>\n",
       "</table>\n",
       "</div>"
      ],
      "text/plain": [
       "                                           fasta_path  fasta_size\n",
       "53  /media/dmokhtari/DataStore2/Collaborations/MMP...       19512\n",
       "10  /media/dmokhtari/DataStore2/Collaborations/MMP...       66815"
      ]
     },
     "execution_count": 9,
     "metadata": {},
     "output_type": "execute_result"
    }
   ],
   "source": [
    "alignment_root = Path('/media/dmokhtari/DataStore2/Collaborations/MMP/Thermoadaptation_Revisions/\\\n",
    "SequenceFetching/1912_SequenceFetching/Lietal_PairwiseAlns/')\n",
    "complete_alns = pd.DataFrame([{'enzyme_name': Path(fh).stem} for fh in alignment_root.iterdir()])\n",
    "\n",
    "missing_enzymes = set([fh.stem for fh in fasta_records.fasta_path]).difference(set(complete_alns.enzyme_name))\n",
    "missing_recs = fasta_records.loc[fasta_records.fasta_path.apply(lambda s: s.stem).isin(missing_enzymes)]\n",
    "missing_recs"
   ]
  }
 ],
 "metadata": {
  "kernelspec": {
   "display_name": "Python 3 (ipykernel)",
   "language": "python",
   "name": "python3"
  },
  "language_info": {
   "codemirror_mode": {
    "name": "ipython",
    "version": 3
   },
   "file_extension": ".py",
   "mimetype": "text/x-python",
   "name": "python",
   "nbconvert_exporter": "python",
   "pygments_lexer": "ipython3",
   "version": "3.9.12"
  }
 },
 "nbformat": 4,
 "nbformat_minor": 4
}
