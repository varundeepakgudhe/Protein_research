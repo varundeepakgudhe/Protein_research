{
 "cells": [
  {
   "cell_type": "markdown",
   "metadata": {},
   "source": [
    "# 7. Logistic regression post-processing\n",
    "___\n",
    "Dr. Raffael lab <br>\n",
    "2024"
   ]
  },
  {
   "cell_type": "code",
   "execution_count": 1,
   "metadata": {},
   "outputs": [],
   "source": [
    "import pandas as pd\n",
    "from pathlib import Path\n",
    "from tqdm import tqdm"
   ]
  },
  {
   "cell_type": "markdown",
   "metadata": {},
   "source": [
    "## Import the raw results"
   ]
  },
  {
   "cell_type": "code",
   "execution_count": 2,
   "metadata": {},
   "outputs": [
    {
     "name": "stderr",
     "output_type": "stream",
     "text": [
      "Parsing logistic regression records: 1it [00:00, 35.04it/s]\n"
     ]
    },
    {
     "data": {
      "text/html": [
       "<div>\n",
       "<style scoped>\n",
       "    .dataframe tbody tr th:only-of-type {\n",
       "        vertical-align: middle;\n",
       "    }\n",
       "\n",
       "    .dataframe tbody tr th {\n",
       "        vertical-align: top;\n",
       "    }\n",
       "\n",
       "    .dataframe thead th {\n",
       "        text-align: right;\n",
       "    }\n",
       "</style>\n",
       "<table border=\"1\" class=\"dataframe\">\n",
       "  <thead>\n",
       "    <tr style=\"text-align: right;\">\n",
       "      <th></th>\n",
       "      <th>Position</th>\n",
       "      <th>var</th>\n",
       "      <th>estimate</th>\n",
       "      <th>stderr</th>\n",
       "      <th>statistic</th>\n",
       "      <th>pval</th>\n",
       "      <th>type</th>\n",
       "      <th>alpha</th>\n",
       "      <th>convergence</th>\n",
       "      <th>Enzyme</th>\n",
       "      <th>position</th>\n",
       "      <th>residue</th>\n",
       "    </tr>\n",
       "  </thead>\n",
       "  <tbody>\n",
       "    <tr>\n",
       "      <th>2682</th>\n",
       "      <td>68</td>\n",
       "      <td>(Intercept)</td>\n",
       "      <td>-14.213309</td>\n",
       "      <td>1.731576</td>\n",
       "      <td>-8.208309</td>\n",
       "      <td>2.243255e-16</td>\n",
       "      <td>uncorrected</td>\n",
       "      <td>NaN</td>\n",
       "      <td>NaN</td>\n",
       "      <td>steroid_DELTA-isomerase</td>\n",
       "      <td>68</td>\n",
       "      <td>C</td>\n",
       "    </tr>\n",
       "    <tr>\n",
       "      <th>2683</th>\n",
       "      <td>68</td>\n",
       "      <td>temps</td>\n",
       "      <td>0.415145</td>\n",
       "      <td>0.053114</td>\n",
       "      <td>7.816162</td>\n",
       "      <td>5.445821e-15</td>\n",
       "      <td>uncorrected</td>\n",
       "      <td>NaN</td>\n",
       "      <td>NaN</td>\n",
       "      <td>steroid_DELTA-isomerase</td>\n",
       "      <td>68</td>\n",
       "      <td>C</td>\n",
       "    </tr>\n",
       "    <tr>\n",
       "      <th>3126</th>\n",
       "      <td>79</td>\n",
       "      <td>(Intercept)</td>\n",
       "      <td>-11.377629</td>\n",
       "      <td>1.500899</td>\n",
       "      <td>-7.580541</td>\n",
       "      <td>3.441159e-14</td>\n",
       "      <td>uncorrected</td>\n",
       "      <td>NaN</td>\n",
       "      <td>NaN</td>\n",
       "      <td>steroid_DELTA-isomerase</td>\n",
       "      <td>79</td>\n",
       "      <td>E</td>\n",
       "    </tr>\n",
       "    <tr>\n",
       "      <th>3127</th>\n",
       "      <td>79</td>\n",
       "      <td>temps</td>\n",
       "      <td>0.333903</td>\n",
       "      <td>0.046789</td>\n",
       "      <td>7.136290</td>\n",
       "      <td>9.588350e-13</td>\n",
       "      <td>uncorrected</td>\n",
       "      <td>NaN</td>\n",
       "      <td>NaN</td>\n",
       "      <td>steroid_DELTA-isomerase</td>\n",
       "      <td>79</td>\n",
       "      <td>E</td>\n",
       "    </tr>\n",
       "    <tr>\n",
       "      <th>1694</th>\n",
       "      <td>43</td>\n",
       "      <td>(Intercept)</td>\n",
       "      <td>-9.337702</td>\n",
       "      <td>1.396343</td>\n",
       "      <td>-6.687257</td>\n",
       "      <td>2.273927e-11</td>\n",
       "      <td>uncorrected</td>\n",
       "      <td>NaN</td>\n",
       "      <td>NaN</td>\n",
       "      <td>steroid_DELTA-isomerase</td>\n",
       "      <td>43</td>\n",
       "      <td>I</td>\n",
       "    </tr>\n",
       "  </tbody>\n",
       "</table>\n",
       "</div>"
      ],
      "text/plain": [
       "      Position          var   estimate    stderr  statistic          pval  \\\n",
       "2682        68  (Intercept) -14.213309  1.731576  -8.208309  2.243255e-16   \n",
       "2683        68        temps   0.415145  0.053114   7.816162  5.445821e-15   \n",
       "3126        79  (Intercept) -11.377629  1.500899  -7.580541  3.441159e-14   \n",
       "3127        79        temps   0.333903  0.046789   7.136290  9.588350e-13   \n",
       "1694        43  (Intercept)  -9.337702  1.396343  -6.687257  2.273927e-11   \n",
       "\n",
       "             type  alpha  convergence                   Enzyme  position  \\\n",
       "2682  uncorrected    NaN          NaN  steroid_DELTA-isomerase        68   \n",
       "2683  uncorrected    NaN          NaN  steroid_DELTA-isomerase        68   \n",
       "3126  uncorrected    NaN          NaN  steroid_DELTA-isomerase        79   \n",
       "3127  uncorrected    NaN          NaN  steroid_DELTA-isomerase        79   \n",
       "1694  uncorrected    NaN          NaN  steroid_DELTA-isomerase        43   \n",
       "\n",
       "     residue  \n",
       "2682       C  \n",
       "2683       C  \n",
       "3126       E  \n",
       "3127       E  \n",
       "1694       I  "
      ]
     },
     "execution_count": 2,
     "metadata": {},
     "output_type": "execute_result"
    }
   ],
   "source": [
    "log_regress_root = Path('Lietal_UncorrectedLogisticRegression')\n",
    "\n",
    "regression_recs_list = []\n",
    "for path in tqdm(log_regress_root.iterdir(), desc = 'Parsing logistic regression records'):\n",
    "    if path.stem.startswith('.'):\n",
    "        pass\n",
    "    else:\n",
    "        try:\n",
    "            regression_recs_list.append(pd.read_csv(path, index_col = 0))\n",
    "        except:\n",
    "            print('Path could not be parsed: {}'.format(path))\n",
    "            raise RuntimeError\n",
    "    \n",
    "regression_recs = pd.concat(regression_recs_list).reset_index(drop = True).sort_values('pval')\n",
    "regression_recs.head()"
   ]
  },
  {
   "cell_type": "code",
   "execution_count": 3,
   "metadata": {},
   "outputs": [
    {
     "name": "stdout",
     "output_type": "stream",
     "text": [
      "There are 5080 regressed positions/residues over 1 enzymes\n"
     ]
    }
   ],
   "source": [
    "print('There are {} regressed positions/residues over {} enzymes'.format(len(regression_recs), len(regression_recs.Enzyme.unique())))"
   ]
  },
  {
   "cell_type": "code",
   "execution_count": 4,
   "metadata": {},
   "outputs": [],
   "source": [
    "# regression_recs.to_csv('Lietal_LogisticRegressionSummaries/2001_UncorrectedRecords.csv.bz2')\n",
    "#For multiple enzymes use above\n",
    "#for single enzyme use below\n",
    "regression_recs.to_csv('Lietal_LogisticRegressionSummaries/2001_UncorrectedRecords.csv')"
   ]
  },
  {
   "cell_type": "markdown",
   "metadata": {},
   "source": [
    "### Which positions are significant for the uncorrected regression?"
   ]
  },
  {
   "cell_type": "code",
   "execution_count": 5,
   "metadata": {},
   "outputs": [],
   "source": [
    "# regression_recs = pd.read_csv('Lietal_LogisticRegressionSummaries/2001_UncorrectedRecords.csv.bz2', index_col = 0)\n",
    "#For multiple enzymes use above\n",
    "#for single enzyme use below\n",
    "regression_recs = pd.read_csv('Lietal_LogisticRegressionSummaries/2001_UncorrectedRecords.csv', index_col = 0)"
   ]
  },
  {
   "cell_type": "code",
   "execution_count": 6,
   "metadata": {},
   "outputs": [
    {
     "data": {
      "text/html": [
       "<div>\n",
       "<style scoped>\n",
       "    .dataframe tbody tr th:only-of-type {\n",
       "        vertical-align: middle;\n",
       "    }\n",
       "\n",
       "    .dataframe tbody tr th {\n",
       "        vertical-align: top;\n",
       "    }\n",
       "\n",
       "    .dataframe thead th {\n",
       "        text-align: right;\n",
       "    }\n",
       "</style>\n",
       "<table border=\"1\" class=\"dataframe\">\n",
       "  <thead>\n",
       "    <tr style=\"text-align: right;\">\n",
       "      <th></th>\n",
       "      <th>Position</th>\n",
       "      <th>var</th>\n",
       "      <th>estimate</th>\n",
       "      <th>stderr</th>\n",
       "      <th>statistic</th>\n",
       "      <th>pval</th>\n",
       "      <th>type</th>\n",
       "      <th>alpha</th>\n",
       "      <th>convergence</th>\n",
       "      <th>Enzyme</th>\n",
       "      <th>position</th>\n",
       "      <th>residue</th>\n",
       "    </tr>\n",
       "  </thead>\n",
       "  <tbody>\n",
       "    <tr>\n",
       "      <th>2682</th>\n",
       "      <td>68</td>\n",
       "      <td>(Intercept)</td>\n",
       "      <td>-14.213309</td>\n",
       "      <td>1.731576</td>\n",
       "      <td>-8.208309</td>\n",
       "      <td>2.243255e-16</td>\n",
       "      <td>uncorrected</td>\n",
       "      <td>NaN</td>\n",
       "      <td>NaN</td>\n",
       "      <td>steroid_DELTA-isomerase</td>\n",
       "      <td>68</td>\n",
       "      <td>C</td>\n",
       "    </tr>\n",
       "    <tr>\n",
       "      <th>2683</th>\n",
       "      <td>68</td>\n",
       "      <td>temps</td>\n",
       "      <td>0.415145</td>\n",
       "      <td>0.053114</td>\n",
       "      <td>7.816162</td>\n",
       "      <td>5.445821e-15</td>\n",
       "      <td>uncorrected</td>\n",
       "      <td>NaN</td>\n",
       "      <td>NaN</td>\n",
       "      <td>steroid_DELTA-isomerase</td>\n",
       "      <td>68</td>\n",
       "      <td>C</td>\n",
       "    </tr>\n",
       "    <tr>\n",
       "      <th>3126</th>\n",
       "      <td>79</td>\n",
       "      <td>(Intercept)</td>\n",
       "      <td>-11.377629</td>\n",
       "      <td>1.500899</td>\n",
       "      <td>-7.580541</td>\n",
       "      <td>3.441159e-14</td>\n",
       "      <td>uncorrected</td>\n",
       "      <td>NaN</td>\n",
       "      <td>NaN</td>\n",
       "      <td>steroid_DELTA-isomerase</td>\n",
       "      <td>79</td>\n",
       "      <td>E</td>\n",
       "    </tr>\n",
       "    <tr>\n",
       "      <th>3127</th>\n",
       "      <td>79</td>\n",
       "      <td>temps</td>\n",
       "      <td>0.333903</td>\n",
       "      <td>0.046789</td>\n",
       "      <td>7.136290</td>\n",
       "      <td>9.588350e-13</td>\n",
       "      <td>uncorrected</td>\n",
       "      <td>NaN</td>\n",
       "      <td>NaN</td>\n",
       "      <td>steroid_DELTA-isomerase</td>\n",
       "      <td>79</td>\n",
       "      <td>E</td>\n",
       "    </tr>\n",
       "    <tr>\n",
       "      <th>1694</th>\n",
       "      <td>43</td>\n",
       "      <td>(Intercept)</td>\n",
       "      <td>-9.337702</td>\n",
       "      <td>1.396343</td>\n",
       "      <td>-6.687257</td>\n",
       "      <td>2.273927e-11</td>\n",
       "      <td>uncorrected</td>\n",
       "      <td>NaN</td>\n",
       "      <td>NaN</td>\n",
       "      <td>steroid_DELTA-isomerase</td>\n",
       "      <td>43</td>\n",
       "      <td>I</td>\n",
       "    </tr>\n",
       "  </tbody>\n",
       "</table>\n",
       "</div>"
      ],
      "text/plain": [
       "      Position          var   estimate    stderr  statistic          pval  \\\n",
       "2682        68  (Intercept) -14.213309  1.731576  -8.208309  2.243255e-16   \n",
       "2683        68        temps   0.415145  0.053114   7.816162  5.445821e-15   \n",
       "3126        79  (Intercept) -11.377629  1.500899  -7.580541  3.441159e-14   \n",
       "3127        79        temps   0.333903  0.046789   7.136290  9.588350e-13   \n",
       "1694        43  (Intercept)  -9.337702  1.396343  -6.687257  2.273927e-11   \n",
       "\n",
       "             type  alpha  convergence                   Enzyme  position  \\\n",
       "2682  uncorrected    NaN          NaN  steroid_DELTA-isomerase        68   \n",
       "2683  uncorrected    NaN          NaN  steroid_DELTA-isomerase        68   \n",
       "3126  uncorrected    NaN          NaN  steroid_DELTA-isomerase        79   \n",
       "3127  uncorrected    NaN          NaN  steroid_DELTA-isomerase        79   \n",
       "1694  uncorrected    NaN          NaN  steroid_DELTA-isomerase        43   \n",
       "\n",
       "     residue  \n",
       "2682       C  \n",
       "2683       C  \n",
       "3126       E  \n",
       "3127       E  \n",
       "1694       I  "
      ]
     },
     "execution_count": 6,
     "metadata": {},
     "output_type": "execute_result"
    }
   ],
   "source": [
    "regression_recs.head()"
   ]
  },
  {
   "cell_type": "code",
   "execution_count": 7,
   "metadata": {},
   "outputs": [
    {
     "name": "stdout",
     "output_type": "stream",
     "text": [
      "Num tests: 2540.0\n",
      "Corrected significance threshold: 1.9685039370078743e-05\n"
     ]
    }
   ],
   "source": [
    "num_tests = len(regression_recs)/2\n",
    "significance = 0.05\n",
    "\n",
    "significance_corrected = significance/num_tests\n",
    "\n",
    "print('Num tests: {}\\nCorrected significance threshold: {}'.format(num_tests, significance_corrected))"
   ]
  },
  {
   "cell_type": "code",
   "execution_count": 8,
   "metadata": {},
   "outputs": [],
   "source": [
    "regression_recs['unique_index'] = regression_recs.Enzyme+'|'+regression_recs.position.astype(str)+'|'+regression_recs.residue"
   ]
  },
  {
   "cell_type": "code",
   "execution_count": 9,
   "metadata": {},
   "outputs": [],
   "source": [
    "regression_recs_subset = regression_recs.loc[(regression_recs['var']=='temps')&(regression_recs['pval']<significance_corrected)]"
   ]
  },
  {
   "cell_type": "code",
   "execution_count": 10,
   "metadata": {},
   "outputs": [
    {
     "name": "stderr",
     "output_type": "stream",
     "text": [
      "/var/folders/lk/f1snn09n3svd7pdwh0yw2pp40000gn/T/ipykernel_2491/3440368379.py:1: SettingWithCopyWarning: \n",
      "A value is trying to be set on a copy of a slice from a DataFrame.\n",
      "Try using .loc[row_indexer,col_indexer] = value instead\n",
      "\n",
      "See the caveats in the documentation: https://pandas.pydata.org/pandas-docs/stable/user_guide/indexing.html#returning-a-view-versus-a-copy\n",
      "  regression_recs_subset['pval_alpha0.5_corrected'] = significance_corrected\n"
     ]
    }
   ],
   "source": [
    "regression_recs_subset['pval_alpha0.5_corrected'] = significance_corrected"
   ]
  },
  {
   "cell_type": "code",
   "execution_count": 11,
   "metadata": {},
   "outputs": [
    {
     "name": "stderr",
     "output_type": "stream",
     "text": [
      "/var/folders/lk/f1snn09n3svd7pdwh0yw2pp40000gn/T/ipykernel_2491/83757664.py:1: SettingWithCopyWarning: \n",
      "A value is trying to be set on a copy of a slice from a DataFrame\n",
      "\n",
      "See the caveats in the documentation: https://pandas.pydata.org/pandas-docs/stable/user_guide/indexing.html#returning-a-view-versus-a-copy\n",
      "  regression_recs_subset.rename(columns = {'position': 'sig_pos', 'residue':'sig_res'}, inplace = True)\n"
     ]
    }
   ],
   "source": [
    "regression_recs_subset.rename(columns = {'position': 'sig_pos', 'residue':'sig_res'}, inplace = True)"
   ]
  },
  {
   "cell_type": "code",
   "execution_count": 12,
   "metadata": {},
   "outputs": [
    {
     "data": {
      "text/html": [
       "<div>\n",
       "<style scoped>\n",
       "    .dataframe tbody tr th:only-of-type {\n",
       "        vertical-align: middle;\n",
       "    }\n",
       "\n",
       "    .dataframe tbody tr th {\n",
       "        vertical-align: top;\n",
       "    }\n",
       "\n",
       "    .dataframe thead th {\n",
       "        text-align: right;\n",
       "    }\n",
       "</style>\n",
       "<table border=\"1\" class=\"dataframe\">\n",
       "  <thead>\n",
       "    <tr style=\"text-align: right;\">\n",
       "      <th></th>\n",
       "      <th>Position</th>\n",
       "      <th>var</th>\n",
       "      <th>estimate</th>\n",
       "      <th>stderr</th>\n",
       "      <th>statistic</th>\n",
       "      <th>pval</th>\n",
       "      <th>type</th>\n",
       "      <th>alpha</th>\n",
       "      <th>convergence</th>\n",
       "      <th>Enzyme</th>\n",
       "      <th>sig_pos</th>\n",
       "      <th>sig_res</th>\n",
       "      <th>unique_index</th>\n",
       "      <th>pval_alpha0.5_corrected</th>\n",
       "    </tr>\n",
       "    <tr>\n",
       "      <th>Index</th>\n",
       "      <th></th>\n",
       "      <th></th>\n",
       "      <th></th>\n",
       "      <th></th>\n",
       "      <th></th>\n",
       "      <th></th>\n",
       "      <th></th>\n",
       "      <th></th>\n",
       "      <th></th>\n",
       "      <th></th>\n",
       "      <th></th>\n",
       "      <th></th>\n",
       "      <th></th>\n",
       "      <th></th>\n",
       "    </tr>\n",
       "  </thead>\n",
       "  <tbody>\n",
       "    <tr>\n",
       "      <th>2683</th>\n",
       "      <td>68</td>\n",
       "      <td>temps</td>\n",
       "      <td>0.415145</td>\n",
       "      <td>0.053114</td>\n",
       "      <td>7.816162</td>\n",
       "      <td>5.445821e-15</td>\n",
       "      <td>uncorrected</td>\n",
       "      <td>NaN</td>\n",
       "      <td>NaN</td>\n",
       "      <td>steroid_DELTA-isomerase</td>\n",
       "      <td>68</td>\n",
       "      <td>C</td>\n",
       "      <td>steroid_DELTA-isomerase|68|C</td>\n",
       "      <td>0.00002</td>\n",
       "    </tr>\n",
       "    <tr>\n",
       "      <th>3127</th>\n",
       "      <td>79</td>\n",
       "      <td>temps</td>\n",
       "      <td>0.333903</td>\n",
       "      <td>0.046789</td>\n",
       "      <td>7.136290</td>\n",
       "      <td>9.588350e-13</td>\n",
       "      <td>uncorrected</td>\n",
       "      <td>NaN</td>\n",
       "      <td>NaN</td>\n",
       "      <td>steroid_DELTA-isomerase</td>\n",
       "      <td>79</td>\n",
       "      <td>E</td>\n",
       "      <td>steroid_DELTA-isomerase|79|E</td>\n",
       "      <td>0.00002</td>\n",
       "    </tr>\n",
       "    <tr>\n",
       "      <th>1695</th>\n",
       "      <td>43</td>\n",
       "      <td>temps</td>\n",
       "      <td>0.264811</td>\n",
       "      <td>0.043309</td>\n",
       "      <td>6.114515</td>\n",
       "      <td>9.685092e-10</td>\n",
       "      <td>uncorrected</td>\n",
       "      <td>NaN</td>\n",
       "      <td>NaN</td>\n",
       "      <td>steroid_DELTA-isomerase</td>\n",
       "      <td>43</td>\n",
       "      <td>I</td>\n",
       "      <td>steroid_DELTA-isomerase|43|I</td>\n",
       "      <td>0.00002</td>\n",
       "    </tr>\n",
       "    <tr>\n",
       "      <th>1535</th>\n",
       "      <td>39</td>\n",
       "      <td>temps</td>\n",
       "      <td>0.275036</td>\n",
       "      <td>0.046227</td>\n",
       "      <td>5.949673</td>\n",
       "      <td>2.686781e-09</td>\n",
       "      <td>uncorrected</td>\n",
       "      <td>NaN</td>\n",
       "      <td>NaN</td>\n",
       "      <td>steroid_DELTA-isomerase</td>\n",
       "      <td>39</td>\n",
       "      <td>I</td>\n",
       "      <td>steroid_DELTA-isomerase|39|I</td>\n",
       "      <td>0.00002</td>\n",
       "    </tr>\n",
       "    <tr>\n",
       "      <th>2361</th>\n",
       "      <td>60</td>\n",
       "      <td>temps</td>\n",
       "      <td>0.235434</td>\n",
       "      <td>0.040637</td>\n",
       "      <td>5.793529</td>\n",
       "      <td>6.892240e-09</td>\n",
       "      <td>uncorrected</td>\n",
       "      <td>NaN</td>\n",
       "      <td>NaN</td>\n",
       "      <td>steroid_DELTA-isomerase</td>\n",
       "      <td>60</td>\n",
       "      <td>A</td>\n",
       "      <td>steroid_DELTA-isomerase|60|A</td>\n",
       "      <td>0.00002</td>\n",
       "    </tr>\n",
       "  </tbody>\n",
       "</table>\n",
       "</div>"
      ],
      "text/plain": [
       "       Position    var  estimate    stderr  statistic          pval  \\\n",
       "Index                                                                 \n",
       "2683         68  temps  0.415145  0.053114   7.816162  5.445821e-15   \n",
       "3127         79  temps  0.333903  0.046789   7.136290  9.588350e-13   \n",
       "1695         43  temps  0.264811  0.043309   6.114515  9.685092e-10   \n",
       "1535         39  temps  0.275036  0.046227   5.949673  2.686781e-09   \n",
       "2361         60  temps  0.235434  0.040637   5.793529  6.892240e-09   \n",
       "\n",
       "              type  alpha  convergence                   Enzyme  sig_pos  \\\n",
       "Index                                                                      \n",
       "2683   uncorrected    NaN          NaN  steroid_DELTA-isomerase       68   \n",
       "3127   uncorrected    NaN          NaN  steroid_DELTA-isomerase       79   \n",
       "1695   uncorrected    NaN          NaN  steroid_DELTA-isomerase       43   \n",
       "1535   uncorrected    NaN          NaN  steroid_DELTA-isomerase       39   \n",
       "2361   uncorrected    NaN          NaN  steroid_DELTA-isomerase       60   \n",
       "\n",
       "      sig_res                  unique_index  pval_alpha0.5_corrected  \n",
       "Index                                                                 \n",
       "2683        C  steroid_DELTA-isomerase|68|C                  0.00002  \n",
       "3127        E  steroid_DELTA-isomerase|79|E                  0.00002  \n",
       "1695        I  steroid_DELTA-isomerase|43|I                  0.00002  \n",
       "1535        I  steroid_DELTA-isomerase|39|I                  0.00002  \n",
       "2361        A  steroid_DELTA-isomerase|60|A                  0.00002  "
      ]
     },
     "execution_count": 12,
     "metadata": {},
     "output_type": "execute_result"
    }
   ],
   "source": [
    "regression_recs_subset.index.name = 'Index'\n",
    "regression_recs_subset.head()"
   ]
  },
  {
   "cell_type": "code",
   "execution_count": 13,
   "metadata": {},
   "outputs": [],
   "source": [
    "# regression_recs_subset.to_csv('Lietal_LogisticRegressionSummaries/2001_UncorrectedRecords_SignificantOnly.csv.bz2')\n",
    "#For multiple enzymes use above\n",
    "#for single enzyme use below\n",
    "regression_recs_subset.to_csv('Lietal_LogisticRegressionSummaries/2001_UncorrectedRecords_SignificantOnly.csv')"
   ]
  },
  {
   "cell_type": "code",
   "execution_count": 14,
   "metadata": {},
   "outputs": [
    {
     "name": "stdout",
     "output_type": "stream",
     "text": [
      "Sites meeting corrected significance threshold: 34\n"
     ]
    }
   ],
   "source": [
    "print('Sites meeting corrected significance threshold: {}'.format(len(regression_recs_subset)))"
   ]
  },
  {
   "cell_type": "markdown",
   "metadata": {},
   "source": [
    "## Generate a clean representation for the significant sites"
   ]
  },
  {
   "cell_type": "code",
   "execution_count": 15,
   "metadata": {},
   "outputs": [],
   "source": [
    "#regression_recs_subset = pd.read_csv('Lietal_LogisticRegressionSummaries/2001_UncorrectedRecords_SignificantOnly.csv.bz2')\n",
    "#For multiple enzymes use above\n",
    "#for single enzyme use below\n",
    "regression_recs_subset = pd.read_csv('Lietal_LogisticRegressionSummaries/2001_UncorrectedRecords_SignificantOnly.csv')"
   ]
  },
  {
   "cell_type": "code",
   "execution_count": 16,
   "metadata": {},
   "outputs": [
    {
     "data": {
      "text/html": [
       "<div>\n",
       "<style scoped>\n",
       "    .dataframe tbody tr th:only-of-type {\n",
       "        vertical-align: middle;\n",
       "    }\n",
       "\n",
       "    .dataframe tbody tr th {\n",
       "        vertical-align: top;\n",
       "    }\n",
       "\n",
       "    .dataframe thead th {\n",
       "        text-align: right;\n",
       "    }\n",
       "</style>\n",
       "<table border=\"1\" class=\"dataframe\">\n",
       "  <thead>\n",
       "    <tr style=\"text-align: right;\">\n",
       "      <th></th>\n",
       "      <th>Enzyme</th>\n",
       "      <th>Position</th>\n",
       "      <th>Residue</th>\n",
       "    </tr>\n",
       "  </thead>\n",
       "  <tbody>\n",
       "    <tr>\n",
       "      <th>0</th>\n",
       "      <td>steroid_DELTA-isomerase</td>\n",
       "      <td>68</td>\n",
       "      <td>C</td>\n",
       "    </tr>\n",
       "    <tr>\n",
       "      <th>1</th>\n",
       "      <td>steroid_DELTA-isomerase</td>\n",
       "      <td>79</td>\n",
       "      <td>E</td>\n",
       "    </tr>\n",
       "    <tr>\n",
       "      <th>2</th>\n",
       "      <td>steroid_DELTA-isomerase</td>\n",
       "      <td>43</td>\n",
       "      <td>I</td>\n",
       "    </tr>\n",
       "    <tr>\n",
       "      <th>3</th>\n",
       "      <td>steroid_DELTA-isomerase</td>\n",
       "      <td>39</td>\n",
       "      <td>I</td>\n",
       "    </tr>\n",
       "    <tr>\n",
       "      <th>4</th>\n",
       "      <td>steroid_DELTA-isomerase</td>\n",
       "      <td>60</td>\n",
       "      <td>A</td>\n",
       "    </tr>\n",
       "  </tbody>\n",
       "</table>\n",
       "</div>"
      ],
      "text/plain": [
       "                    Enzyme  Position Residue\n",
       "0  steroid_DELTA-isomerase        68       C\n",
       "1  steroid_DELTA-isomerase        79       E\n",
       "2  steroid_DELTA-isomerase        43       I\n",
       "3  steroid_DELTA-isomerase        39       I\n",
       "4  steroid_DELTA-isomerase        60       A"
      ]
     },
     "execution_count": 16,
     "metadata": {},
     "output_type": "execute_result"
    }
   ],
   "source": [
    "regression_recs_subset_simple = regression_recs_subset[['Enzyme', 'Position', 'sig_res']].rename(columns = {'sig_res': 'Residue'})\n",
    "regression_recs_subset_simple.head()"
   ]
  },
  {
   "cell_type": "code",
   "execution_count": 17,
   "metadata": {},
   "outputs": [],
   "source": [
    "regression_recs_subset_simple.to_csv('Lietal_LogisticRegressionSummaries/2001_VanillaSignificant_sites.csv')"
   ]
  }
 ],
 "metadata": {
  "kernelspec": {
   "display_name": "Python 3 (ipykernel)",
   "language": "python",
   "name": "python3"
  },
  "language_info": {
   "codemirror_mode": {
    "name": "ipython",
    "version": 3
   },
   "file_extension": ".py",
   "mimetype": "text/x-python",
   "name": "python",
   "nbconvert_exporter": "python",
   "pygments_lexer": "ipython3",
   "version": "3.9.12"
  }
 },
 "nbformat": 4,
 "nbformat_minor": 4
}
