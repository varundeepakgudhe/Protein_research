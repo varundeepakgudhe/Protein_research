{
 "cells": [
  {
   "cell_type": "code",
   "execution_count": 1,
   "id": "7e3ef236",
   "metadata": {},
   "outputs": [
    {
     "name": "stderr",
     "output_type": "stream",
     "text": [
      "/Users/varundeepakgudhe/opt/anaconda3/lib/python3.9/site-packages/Bio/pairwise2.py:278: BiopythonDeprecationWarning: Bio.pairwise2 has been deprecated, and we intend to remove it in a future release of Biopython. As an alternative, please consider using Bio.Align.PairwiseAligner as a replacement, and contact the Biopython developers if you still need the Bio.pairwise2 module.\n",
      "  warnings.warn(\n"
     ]
    }
   ],
   "source": [
    "import numpy as np\n",
    "import pandas as pd\n",
    "from tqdm import tqdm\n",
    "from pathlib import Path\n",
    "import multiprocessing as mp\n",
    "\n",
    "from Bio.Align import MultipleSeqAlignment\n",
    "from Bio import SeqIO, AlignIO, Seq, SeqRecord\n",
    "import os\n",
    "import re\n",
    "import datetime\n",
    "from pathlib import Path\n",
    "import multiprocessing as mp\n",
    "\n",
    "import numpy as np\n",
    "import pandas as pd\n",
    "\n",
    "# from Bio.Alphabet import Gapped\n",
    "from Bio.Align import MultipleSeqAlignment\n",
    "from Bio.Align import substitution_matrices as matlist\n",
    "from Bio import Align\n",
    "from Bio import SeqIO, AlignIO, Seq, Align, SeqRecord, pairwise2\n",
    "from Bio import Phylo\n",
    "import copy"
   ]
  },
  {
   "cell_type": "code",
   "execution_count": 2,
   "id": "4395c714",
   "metadata": {},
   "outputs": [
    {
     "name": "stdout",
     "output_type": "stream",
     "text": [
      "MTAFPFDSVMVANRGEIAARVLRTVKALGLRALLVAHRIDEGAPALMLADDVRWIDGPTPVAAFLDSQQIIAAAKDMGVGAIHPGYGFLSENADFARAVADAGMIFVGPTPAAIELMGDKVRARNFVAERGFPVAPSAIED--DDPATFVARARAVGAPLLIKPSAGGGGKGMRIVRDLATLDDEIVRARSEGQRYFGDGRLFVERYVERPRHIEVQVLGDAQGHVVHLFERECSLQRRFQKIVEEAPSPVLDDAERARICDAAAGIARAAGYVNAGTVEFIYGRGEFYFLEMNTRLQVEHPVTEAITGLDLVEQQLRIAAGLPLDFAQADVARTGHAIELRICAEDAGRDFAPTTGPVLKLTPPQG--ARFDVGVSEGGRVSAAFDPMIGKLIVHGTNRADALAKADAALGDLVLLGLKTNIAYLRRLIADPQVAAGDIHTGLIGEKVDIMPDPAPDDALLARLITLAAHHVPELVREAAEVPALHAAMGSWRN \n",
      " ----MLDKIVIANRGEIALRILRACKELGIKTVAVHSSADRDLKHVLLADETVCIGPAPSVKSYLNIPAIISAAEITGAVAIHPGYGFLSENANFAEQVERSGFIFIGPKAETIRLMGDKVSAIAAMKKAGVPCVPGSDGPLGDDMDKNRAIAKRIGYPVIIKASGGGGGRGMRVVRGDAELAQSISMTRAEAKAAFSNDMVYMEKYLENPRHVEIQVLADGQGNAIYLAERDCSMQRRHQKVVEEAPAPGITPELRRYIGERCAKACVDIGYRGAGTFEFLFENGEFYFIEMNTRIQVEHPVTEMITGVDLIKEQLRIAAGQPLSIKQEEVHVRGHAVECRINAEDP-NTFLPSPGKITRFHAPGGFGVRWESHIYAGYTVPPYYDSMIGKLICYGENRDVAIARMKNALQELIIDGIKTNVDLQIRIMNDENFQHGGTNIHYLEKKLGLQEK----------------------------------------- <class 'Bio.Seq.Seq'> <class 'Bio.Seq.Seq'>\n"
     ]
    }
   ],
   "source": [
    "##DEL\n",
    "fasta_handle=\"exp_seed/seed_BC.fa\"\n",
    "\n",
    "   \n",
    "def performPairwiseAlns(ref_seq_record, target_fasta_handle):\n",
    "    thres=100\n",
    "    aln_score_list = []\n",
    "\n",
    "    for target_seq in SeqIO.parse(target_fasta_handle, 'fasta'):\n",
    "\n",
    "        if target_seq.seq==ref_seq_record.seq:\n",
    "            continue  \n",
    "\n",
    "        # Define pairwise alignment parameters\n",
    "        aligner = Align.PairwiseAligner()\n",
    "        aligner.open_gap_score = -10\n",
    "        aligner.extend_gap_score = -0.5\n",
    "        aligner.substitution_matrix = matlist.load('BLOSUM62')\n",
    "        \n",
    "        # Execute alignment\n",
    "        print(ref_seq_record.seq,\"\\n\", target_seq.seq,type(ref_seq_record.seq),type(target_seq.seq))\n",
    "        break\n",
    "\n",
    "\n",
    "    return aln_score_list, thres\n",
    "for rec in SeqIO.parse(fasta_handle, 'fasta'):\n",
    "    aln_score_list, thres=performPairwiseAlns(rec, fasta_handle)\n",
    "    break\n",
    "    print(aln_score_list, thres)\n",
    "    \n",
    "     "
   ]
  },
  {
   "cell_type": "code",
   "execution_count": 5,
   "id": "b694368c",
   "metadata": {},
   "outputs": [
    {
     "name": "stdout",
     "output_type": "stream",
     "text": [
      "min_thres:: 890.5 \n",
      "mean_list:: [459.625, 579.125, 593.5]\n"
     ]
    }
   ],
   "source": [
    "fasta_handle=\"exp_seed/seed_BC.fa\"\n",
    "\n",
    "   \n",
    "def performPairwiseAlns(ref_seq_record, target_fasta_handle):\n",
    "    thres=10000\n",
    "    aln_score_list = []\n",
    "\n",
    "    for target_seq in SeqIO.parse(target_fasta_handle, 'fasta'):\n",
    "        if target_seq.seq==ref_seq_record.seq:\n",
    "            continue\n",
    "        # Define pairwise alignment parameters\n",
    "        aligner = Align.PairwiseAligner()\n",
    "        aligner.open_gap_score = -10\n",
    "        aligner.extend_gap_score = -0.5\n",
    "        aligner.substitution_matrix = matlist.load('BLOSUM62')\n",
    "        \n",
    "        # Execute alignment\n",
    "        alignments = aligner.align(str(ref_seq_record.seq).replace(\"-\",\"\"),str(target_seq.seq).replace(\"-\",\"\"))\n",
    "        best_aln = alignments[0]\n",
    "        aln_score = best_aln.score\n",
    "        thres=min(thres,aln_score)\n",
    "        aln_score_list.append(aln_score)\n",
    "        \n",
    "\n",
    "\n",
    "    return aln_score_list, thres\n",
    "\n",
    "\n",
    "min_thres=[]\n",
    "mean_list=[]\n",
    "for rec in SeqIO.parse(fasta_handle, 'fasta'):\n",
    "    \n",
    "    aln_score_list, thres=performPairwiseAlns(rec, fasta_handle)\n",
    "    min_thres.append(thres)\n",
    "    mean_list.append(sum(aln_score_list)/4)\n",
    "    \n",
    "print(\"min_thres::\",min(min_thres),\"\\nmean_list::\",mean_list)\n",
    "    \n"
   ]
  },
  {
   "cell_type": "markdown",
   "id": "de2530ea",
   "metadata": {},
   "source": [
    "### Therefore, the reference sequence is:\n",
    "\n",
    ">311410_1:000749\n",
    "----MFSKILIANRGEIALRILRACKELGIPTVAVHSTADADAMHVRLADESVCIGPPAA\n",
    "RDSYLNIPQLLAACEITGADAVHPGYGFLSENARFAEILEAHNIEFIGPTAEHIRVMGDK\n",
    "IQAKQTARDLGIPVVPGSDGEVTADD-DAHAIARQIGYPVLVKAAAGGGGRGMKVAKSEA\n",
    "ELDTALSTARSEAKASFGDDALYMEKYLGKPRHIEIQVLGDGKGNAVHLGERDCSLQRRH\n",
    "QKVLEEAPSPSLNAEQRHKIGQIVADAMRELKYRGVGTVEFLYENGEFYFIEMNTRLQVE\n",
    "HPVTEMITGIDLVNEQIRIAAGGDLDMTQEDIKFDGHAIECRINAEDP-VTFAPSPGTIT\n",
    "YYHPPGGLGVRVDSGVYQGYKIPPYYDSLIGKLIVHGRNRVECMMRLRRCLDEFVVDEIK\n",
    "STIPLFRDLVDNQDIANGQYDIHWLEKYLADKSN--------------------------\n",
    "---------------\n",
    "\n",
    "\n",
    "### Threshold is 890.5"
   ]
  },
  {
   "cell_type": "markdown",
   "id": "18f40025",
   "metadata": {},
   "source": [
    "# Code to merge temperatures with the fasta file"
   ]
  },
  {
   "cell_type": "code",
   "execution_count": 26,
   "id": "11db0c8f",
   "metadata": {},
   "outputs": [],
   "source": [
    "liOrgListPath = 'Lietal_OrgTempList/temperature_data_full.tsv'\n",
    "\n",
    "temped_Li_list = pd.read_csv(liOrgListPath, delimiter = '\\t').drop_duplicates()\n",
    "temped_Li_list['genus_name'] = temped_Li_list.organism.apply(lambda s: s.split('_')[0]).str.capitalize()\n",
    "temped_Li_list['species_name'] = temped_Li_list.organism.apply(lambda s: s.split('_')[1])\n",
    "temped_Li_list['genus_species'] = temped_Li_list.genus_name + ' ' + temped_Li_list.species_name\n",
    "\n",
    "organism_temp_dict = temped_Li_list[['genus_species', 'temperature']].set_index('genus_species').squeeze().to_dict()"
   ]
  },
  {
   "cell_type": "code",
   "execution_count": 42,
   "id": "4f6b31a4",
   "metadata": {},
   "outputs": [],
   "source": [
    "biotin_handle=Path(\"exp_seed/biotin_carboxylase_orthoDB.fasta\")\n",
    "new_biotin_handle=Path(\"exp_seed/biotin_carboxylase_orthoDB_temped.fasta\")\n",
    "with open(new_biotin_handle, 'a+') as nf:\n",
    "    recs = []\n",
    "    for record in SeqIO.parse(biotin_handle, 'fasta'):\n",
    "        r = copy.copy(record)\n",
    "        organism_raw = r.description.split(\",\")[4][17:-1]\n",
    "        organism_split=organism_raw.split(\" \")\n",
    "        organism=organism_split[0]+\" \"+organism_split[1]\n",
    "        try:\n",
    "            r.id = ''\n",
    "            r.name= ''\n",
    "            r.description = 'Biotin carboxylase|{}|{}'.format(organism,organism_temp_dict[organism])\n",
    "        except:\n",
    "            continue\n",
    "        recs.append(r)\n",
    "    SeqIO.write(recs, nf, 'fasta')"
   ]
  },
  {
   "cell_type": "markdown",
   "id": "6c28dfe4",
   "metadata": {},
   "source": [
    "## Code to eliminate records based on length of the sequence"
   ]
  },
  {
   "cell_type": "markdown",
   "id": "967d393c",
   "metadata": {},
   "source": [
    "#### The seeds sequence length is 495"
   ]
  },
  {
   "cell_type": "code",
   "execution_count": 51,
   "id": "0d1a3b33",
   "metadata": {},
   "outputs": [],
   "source": [
    "biotin_handle_temped=Path(\"exp_seed/biotin_carboxylase_orthoDB_temped.fasta\")\n",
    "biotin_handle_eliminate=Path(\"exp_seed/biotin_carboxylase_orthoDB_temped_len_eliminate.fasta\")\n",
    "with open(biotin_handle_eliminate, 'a+') as nf:\n",
    "    recs = []\n",
    "    for record in SeqIO.parse(biotin_handle_temped, 'fasta'):\n",
    "        r = copy.copy(record)\n",
    "        if len(r.seq)>520:##There isnt much change even with +-20\n",
    "            continue\n",
    "        recs.append(r)\n",
    "    SeqIO.write(recs, nf, 'fasta')"
   ]
  },
  {
   "cell_type": "markdown",
   "id": "c04bc96c",
   "metadata": {},
   "source": [
    "### Total sequences initially: 18696\n",
    "### Total sequences after temped: 7034 (bcoz those organisms are not in our temp_org list)\n",
    "### Total sequences after elimination based on length: 3155"
   ]
  },
  {
   "cell_type": "code",
   "execution_count": null,
   "id": "743a8983",
   "metadata": {},
   "outputs": [],
   "source": []
  },
  {
   "cell_type": "markdown",
   "id": "fb4f44d1",
   "metadata": {},
   "source": [
    "# Code for pariwise alignment for all the sequences generated above with the  reference seq"
   ]
  },
  {
   "cell_type": "code",
   "execution_count": 61,
   "id": "838145d5",
   "metadata": {},
   "outputs": [
    {
     "name": "stdout",
     "output_type": "stream",
     "text": [
      "Count of Total seq: 3155 \n",
      "Count of seq above threshold: 3115\n"
     ]
    }
   ],
   "source": [
    "def performPairwiseAlns(ref_seq_record, target_fasta_handle):\n",
    "  \n",
    "    aln_results = []\n",
    "    count_in=0\n",
    "    total=0\n",
    "    for target_seq in SeqIO.parse(target_fasta_handle, 'fasta'):\n",
    "        \n",
    "        # Define pairwise alignment parameters\n",
    "        aligner = Align.PairwiseAligner()\n",
    "        aligner.open_gap_score = -10\n",
    "        aligner.extend_gap_score = -0.5\n",
    "        aligner.substitution_matrix = matlist.load('BLOSUM62')\n",
    "        \n",
    "        # Execute alignment\n",
    "        alignments = aligner.align(str(ref_seq_record.seq).replace(\"-\",\"\"), str(target_seq.seq))\n",
    "        best_aln = alignments[0]\n",
    "        aln_score = best_aln.score\n",
    "        \n",
    "        total+=1\n",
    "        if aln_score<890.5:\n",
    "            continue\n",
    "        count_in+=1\n",
    "\n",
    "    print(\"Count of Total seq:\",total,\"\\nCount of seq above threshold:\",count_in)\n",
    "\n",
    "target_fasta_handle=Path(\"exp_seed/biotin_carboxylase_orthoDB_temped_len_eliminate.fasta\")\n",
    "\n",
    "fasta_handle=\"exp_seed/seed_BC_reference.fa\"\n",
    "for rec in SeqIO.parse(fasta_handle, 'fasta'):\n",
    "    performPairwiseAlns(rec, target_fasta_handle)"
   ]
  },
  {
   "cell_type": "code",
   "execution_count": 62,
   "id": "14b0f37a",
   "metadata": {},
   "outputs": [],
   "source": [
    "\n",
    "def performPairwiseAlns(ref_seq_record, target_fasta_handle):\n",
    "  \n",
    "    aln_results = []\n",
    "\n",
    "    for target_seq in SeqIO.parse(target_fasta_handle, 'fasta'):\n",
    "        \n",
    "        # Define pairwise alignment parameters\n",
    "        aligner = Align.PairwiseAligner()\n",
    "        aligner.open_gap_score = -10\n",
    "        aligner.extend_gap_score = -0.5\n",
    "        aligner.substitution_matrix = matlist.load('BLOSUM62')\n",
    "        \n",
    "        # Execute alignment\n",
    "        alignments = aligner.align(str(ref_seq_record.seq).replace(\"-\",\"\"), str(target_seq.seq))\n",
    "        best_aln = alignments[0]\n",
    "        aln_score = best_aln.score\n",
    "        \n",
    "        if aln_score<890.5:\n",
    "            continue\n",
    "\n",
    "        aln_results.append(SeqRecord.SeqRecord(Seq.Seq(target_seq.seq), \n",
    "                                               id = '', \n",
    "                                               name = '', \n",
    "                                               description = target_seq.description\n",
    "                                              )\n",
    "                          )\n",
    "\n",
    "    return aln_results\n",
    "    \n",
    "    \n",
    "    \n",
    "    \n",
    "target_fasta_handle=Path(\"exp_seed/biotin_carboxylase_orthoDB_temped_len_eliminate.fasta\")\n",
    "\n",
    "fasta_handle=\"exp_seed/seed_BC_reference.fa\"\n",
    "\n",
    "for rec in SeqIO.parse(fasta_handle, 'fasta'):\n",
    "    \n",
    "    alignments =performPairwiseAlns(rec, target_fasta_handle)\n",
    "    \n",
    "\n",
    "out_aln_handle=\"exp_seed/biotin_carboxylase_orthoDB_thres_eliminate.fasta\"\n",
    "\n",
    "with open(out_aln_handle, 'a+') as alignment_file:\n",
    "    SeqIO.write(alignments, alignment_file, 'fasta')"
   ]
  },
  {
   "cell_type": "code",
   "execution_count": 65,
   "id": "2d7c4768",
   "metadata": {},
   "outputs": [
    {
     "name": "stdout",
     "output_type": "stream",
     "text": [
      "original count: 3115\n"
     ]
    }
   ],
   "source": [
    "#Reducing sequences by 1 seq per spiece\n",
    "import random \n",
    "\n",
    "def create_msas_by_organism(fasta_handle):\n",
    "    retained_records = {}\n",
    "    count=0\n",
    "    for rec in SeqIO.parse(fasta_handle, 'fasta'):\n",
    "        count+=1\n",
    "        desc = rec.description.split('|')\n",
    "        organism = desc[1]\n",
    "        growth_temp = float(desc[2])\n",
    "      \n",
    "        if (organism,growth_temp) in retained_records.keys():\n",
    "            retained_records[(organism, growth_temp)].append(rec)\n",
    "        else:\n",
    "            retained_records[(organism, growth_temp)] = [rec]\n",
    "            \n",
    "    for (organism, growth_temp) in retained_records.keys():\n",
    "        retained_records[(organism, growth_temp)]=random.choices(retained_records[(organism, growth_temp)])\n",
    "        \n",
    "    print(\"original count:\",count)\n",
    "    return retained_records\n",
    "\n",
    "newOut = Path('exp_seed/biotin_carboxylase_orthoDB_thres_eliminate.fasta')\n",
    "\n",
    "result=create_msas_by_organism(newOut)"
   ]
  },
  {
   "cell_type": "code",
   "execution_count": 66,
   "id": "93eb724b",
   "metadata": {},
   "outputs": [],
   "source": [
    "#Saving the outputs\n",
    "out_path = Path('exp_seed/biotin_carboxylase_orthoDB_one_seq_per_org.fasta')\n",
    "with open(out_path, 'a+') as output:\n",
    "    for i in result.values():\n",
    "        SeqIO.write(i, output,'fasta')"
   ]
  },
  {
   "cell_type": "code",
   "execution_count": 67,
   "id": "ed6d90d1",
   "metadata": {},
   "outputs": [
    {
     "name": "stdout",
     "output_type": "stream",
     "text": [
      "Reduced count of sequences above threshold: 1806\n"
     ]
    }
   ],
   "source": [
    "#Checking the count of reduced sequences\n",
    "reduced_count=0\n",
    "for rec in SeqIO.parse(out_path, 'fasta'):\n",
    "    reduced_count+=1\n",
    "print(\"Reduced count of sequences above threshold:\",reduced_count)    "
   ]
  },
  {
   "cell_type": "code",
   "execution_count": 68,
   "id": "1a011f72",
   "metadata": {},
   "outputs": [
    {
     "name": "stderr",
     "output_type": "stream",
     "text": [
      "nadd = 1806\n",
      "nthread = 0\n",
      "nthreadpair = 0\n",
      "nthreadtb = 0\n",
      "ppenalty_ex = 0\n",
      "stacksize: 8176 kb\n",
      "rescale = 1\n",
      "Gap Penalty = -1.53, +0.00, +0.00\n",
      "\n",
      "\n",
      "\n",
      "Making a distance matrix ..\n",
      " 1801 / 1809\n",
      "done.\n",
      "\n",
      "Constructing a UPGMA tree (efffree=0) ... \n",
      " 1800 / 1809\n",
      "done.\n",
      "\n",
      "Progressive alignment 1/2... \n",
      "STEP  1701 / 1808  h\n",
      "Reallocating..done. *alloclen = 2048\n",
      "STEP  1801 / 1808  h\n",
      "done.\n",
      "\n",
      "Making a distance matrix from msa.. \n",
      " 1800 / 1809\n",
      "done.\n",
      "\n",
      "Constructing a UPGMA tree (efffree=1) ... \n",
      " 1800 / 1809\n",
      "done.\n",
      "\n",
      "Progressive alignment 2/2... \n",
      "STEP  1701 / 1808 \n",
      "Reallocating..done. *alloclen = 2060\n",
      "STEP  1801 / 1808  h\n",
      "done.\n",
      "\n",
      "disttbfast (aa) Version 7.520\n",
      "alg=A, model=BLOSUM62, 1.53, -0.00, -0.00, noshift, amax=0.0\n",
      "0 thread(s)\n",
      "\n",
      "\n",
      "Strategy:\n",
      " FFT-NS-2 (Fast but rough)\n",
      " Progressive method (guide trees were built 2 times.)\n",
      "\n",
      "If unsure which option to use, try 'mafft --auto input > output'.\n",
      "For more information, see 'mafft --help', 'mafft --man' and the mafft page.\n",
      "\n",
      "The default gap scoring scheme has been changed in version 7.110 (2013 Oct).\n",
      "It tends to insert more gaps into gap-rich regions than previous versions.\n",
      "To disable this change, add the --leavegappyregion option.\n",
      "\n"
     ]
    }
   ],
   "source": [
    "#MAFFT\n",
    "import subprocess\n",
    "\n",
    "def add_sequences_to_alignment(new_sequences_file, seed_alignment_file, output_file):\n",
    "  \n",
    "    mafft_command = [\"mafft\", \"--add\", new_sequences_file, seed_alignment_file]\n",
    "    \n",
    "   \n",
    "    with open(output_file, \"w\") as outfile:\n",
    "        subprocess.run(mafft_command, stdout=outfile, check=True)\n",
    "\n",
    "\n",
    "new_sequences = \"exp_seed/biotin_carboxylase_orthoDB_one_seq_per_org.fasta\"\n",
    "seed_alignment = \"exp_seed/seed_BC.fa\"\n",
    "output_alignment = \"exp_seed/biotin_carboxylase_orthoDB_MAFFT.fasta\"\n",
    "\n",
    "add_sequences_to_alignment(new_sequences, seed_alignment, output_alignment)"
   ]
  },
  {
   "cell_type": "code",
   "execution_count": 114,
   "id": "6410d82a",
   "metadata": {},
   "outputs": [],
   "source": [
    "# #Modifing Description to contain only enzyme_name, growth_temperature,organism_name in the description.\n",
    "# msa_handle=Path(\"seed_elimination/MAFFT/KSI_MAFFT.fa\")\n",
    "# out_path=Path(\"seed_elimination/MAFFT/Modified_Description/KSI_MAFFT.fa\")\n",
    "# count=0\n",
    "# with open(out_path, 'a+') as output:\n",
    "#     for rec in SeqIO.parse(msa_handle, 'fasta'):\n",
    "#         if count<5:\n",
    "#             count+=1\n",
    "#             continue\n",
    "\n",
    "        \n",
    "#         desc=rec.description.split(\"|\")\n",
    "        \n",
    "#         enzyme=desc[2]\n",
    "#         temp=float(desc[4])\n",
    "#         org=desc[3]\n",
    "        \n",
    "#         new_rec=SeqRecord.SeqRecord(Seq.Seq(rec.seq), id = '', name = '', \n",
    "#                                                description = '{}|{}|{}'.format(enzyme, org, temp))\n",
    "        \n",
    "#         SeqIO.write(new_rec, output,'fasta')\n",
    "        "
   ]
  },
  {
   "cell_type": "markdown",
   "id": "e01b312a",
   "metadata": {},
   "source": [
    "## Converting algined MAFFT sequences to csv"
   ]
  },
  {
   "cell_type": "code",
   "execution_count": 69,
   "id": "70bddfa5",
   "metadata": {},
   "outputs": [],
   "source": [
    "def msa_to_csv(msa_handle, out_root):\n",
    "   \n",
    "    consensus_msa = AlignIO.read(msa_handle, 'fasta')\n",
    "\n",
    "    header_ids = ('Enzyme_Name', 'Organism', 'Temperature')\n",
    "\n",
    "    msa_range = range(1, consensus_msa.get_alignment_length()+1)\n",
    "    rec_df = pd.DataFrame([{\n",
    "            **dict(zip(header_ids, rec.description.strip().split('|'))), \n",
    "            **dict(zip(msa_range, list(rec.seq)))} \n",
    "            for rec in consensus_msa]).melt(id_vars = header_ids, value_name = 'Consensus_Residue',\n",
    "                                            value_vars = msa_range, var_name = 'Position')\n",
    "\n",
    " \n",
    "    out_path = out_root.joinpath(msa_handle.stem + '_summary.csv') \n",
    "    rec_df.to_csv(out_path)\n",
    "    \n",
    "msa_handle=Path(\"exp_seed/biotin_carboxylase_orthoDB_MAFFT_ref_del.fasta\")\n",
    "out_root=Path(\"exp_seed\")\n",
    "msa_to_csv(msa_handle,out_root)"
   ]
  },
  {
   "cell_type": "markdown",
   "id": "b5d4a886",
   "metadata": {},
   "source": [
    "### UNABLE TO KEEP SEEDS IN THE CONSENSUS AND LOGISTIC REGRESSION, BECAUSE THEY DONT HAVE TEMP OR ATLEAST ORGANISM NAME TO FETCH THE TEMPERATURE FROM ORG TEMP DATA"
   ]
  },
  {
   "cell_type": "markdown",
   "id": "07f13b5a",
   "metadata": {},
   "source": [
    "## Code to convert MAFFT output sequences to contain only the amino acids at non gapped positions of the ACCC_ECOLI seq"
   ]
  },
  {
   "cell_type": "code",
   "execution_count": 10,
   "id": "f47e682d",
   "metadata": {},
   "outputs": [],
   "source": [
    "aligned_ref_file = \"exp_seed/seed_BC_ACCC_ECOLI.fa\"\n",
    "input_file = \"exp_seed/biotin_carboxylase_orthoDB_MAFFT_ref_del.fasta\"\n",
    "\n",
    "def get_reference(ref_file):\n",
    "    for rec in SeqIO.parse(ref_file,'fasta'):\n",
    "        return rec\n",
    "        \n",
    "aligned_reference=get_reference(aligned_ref_file)\n",
    "\n",
    "\n",
    "results=[]\n",
    "\n",
    "for aligned_target in SeqIO.parse(input_file,\"fasta\"):\n",
    "\n",
    "    aligned_reference_arr = np.array(list(aligned_reference), dtype = 'str')\n",
    "    aligned_target_arr = np.array(list(aligned_target), dtype = 'str')\n",
    "    trimmed_aligned_target = ''.join(aligned_target_arr[(aligned_reference_arr != '-')].tolist())\n",
    "\n",
    "    # Append the record to our results list\n",
    "    results.append(SeqRecord.SeqRecord(Seq.Seq(trimmed_aligned_target), \n",
    "                                           id = '', \n",
    "                                           name = '', \n",
    "                                           description = aligned_target.description\n",
    "                                          ))\n",
    "                   "
   ]
  },
  {
   "cell_type": "code",
   "execution_count": 12,
   "id": "45142622",
   "metadata": {},
   "outputs": [],
   "source": [
    "output_file=\"exp_seed/biotin_carboxylase_orthoDB_MAFFT_trimmed_targets.fasta\"\n",
    "with open(output_file,'a+') as output:\n",
    "    SeqIO.write(results, output_file,'fasta')\n"
   ]
  },
  {
   "cell_type": "code",
   "execution_count": 15,
   "id": "9301d1ed",
   "metadata": {},
   "outputs": [],
   "source": [
    "#Converting to csv file\n",
    "msa_handle=Path(\"exp_seed/biotin_carboxylase_orthoDB_MAFFT_trimmed_targets.fasta\")\n",
    "out_root=Path(\"exp_seed\")\n",
    "msa_to_csv(msa_handle,out_root)"
   ]
  },
  {
   "cell_type": "code",
   "execution_count": null,
   "id": "b464598a",
   "metadata": {},
   "outputs": [],
   "source": []
  }
 ],
 "metadata": {
  "kernelspec": {
   "display_name": "Python 3 (ipykernel)",
   "language": "python",
   "name": "python3"
  },
  "language_info": {
   "codemirror_mode": {
    "name": "ipython",
    "version": 3
   },
   "file_extension": ".py",
   "mimetype": "text/x-python",
   "name": "python",
   "nbconvert_exporter": "python",
   "pygments_lexer": "ipython3",
   "version": "3.9.12"
  }
 },
 "nbformat": 4,
 "nbformat_minor": 5
}
